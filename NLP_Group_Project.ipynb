{
 "cells": [
  {
   "cell_type": "code",
   "execution_count": 1,
   "id": "1bf19ee3-3fb1-4b65-afb0-8d4f97180587",
   "metadata": {},
   "outputs": [],
   "source": [
    "import http.client\n",
    "import json\n",
    "from jsonpath_ng import jsonpath, parse"
   ]
  },
  {
   "cell_type": "code",
   "execution_count": 16,
   "id": "94686a0f",
   "metadata": {},
   "outputs": [],
   "source": [
    "authorization_token = '' #<REPLACE WITH HUGGING FACE TOKEN>"
   ]
  },
  {
   "cell_type": "code",
   "execution_count": 2,
   "id": "9eac68ac-fc96-45f1-9803-02f4eb319647",
   "metadata": {},
   "outputs": [],
   "source": [
    "prompts = [\n",
    "    \"complete the code def factorial(n):\",\n",
    "    \"complete the code def palindrome(n):\",\n",
    "    \"Write a Python function named `sort_by_key` that sorts a list of dictionaries by a specified key. Take two parameters: the list and the key. Return the sorted list. Provide only the Python code.\",\n",
    "    \"Write a Python class named `BankAccount` for a basic bank account system. Include methods for depositing, withdrawing, and checking the balance. Handle errors like insufficient funds. Provide only the Python code.\"\n",
    "]"
   ]
  },
  {
   "cell_type": "code",
   "execution_count": null,
   "id": "8ac2fb83-9cc4-47d0-9354-073370c0eb73",
   "metadata": {},
   "outputs": [],
   "source": [
    "conn = http.client.HTTPSConnection(\"api-inference.huggingface.co\")\n",
    "results_starcoder = []\n",
    "headers = {\n",
    "  'Content-Type': 'application/json',\n",
    "  'Authorization': authorization_token\n",
    "}\n",
    "for prompt in prompts:\n",
    "    payload = json.dumps({\"inputs\": prompt})\n",
    "    conn.request(\"POST\", \"/models/bigcode/starcoder\", payload, headers)\n",
    "    res = conn.getresponse()\n",
    "    data = res.read()\n",
    "    results_starcoder.append(data.decode(\"utf-8\"))"
   ]
  },
  {
   "cell_type": "code",
   "execution_count": null,
   "id": "e069b7af-df74-4588-af5e-c9a083178eaf",
   "metadata": {},
   "outputs": [
    {
     "name": "stdout",
     "output_type": "stream",
     "text": [
      "All functions saved to scripts/generated_functions_starcoder_delete.py\n"
     ]
    }
   ],
   "source": [
    "file_path = r\"scripts/generated_functions_starcoder.py\"\n",
    "with open(file_path, \"w\", encoding=\"utf-8\") as file:\n",
    "    for result in results_starcoder:\n",
    "        file.write(result + \"\\n\\n\")\n",
    "\n",
    "print(f\"All functions saved to {file_path}\")"
   ]
  },
  {
   "cell_type": "code",
   "execution_count": null,
   "id": "055ff9b3-92bc-48d0-b561-be43f1be8558",
   "metadata": {},
   "outputs": [],
   "source": [
    "conn = http.client.HTTPSConnection(\"api-inference.huggingface.co\")\n",
    "results_QwenCoder = []\n",
    "headers = {\n",
    "    'Authorization': authorization_token, \n",
    "    'Content-Type': 'application/json'\n",
    "}\n",
    "for prompt in prompts:\n",
    "    payload = json.dumps({\n",
    "        \"model\": \"Qwen/Qwen2.5-Coder-32B-Instruct\",\n",
    "        \"messages\": [\n",
    "            {\n",
    "                \"role\": \"user\",\n",
    "                \"content\": prompt \n",
    "            }\n",
    "        ],\n",
    "        \"max_tokens\": 500,\n",
    "        \"stream\": False\n",
    "    })\n",
    "    \n",
    "    conn.request(\"POST\", \"/models/Qwen/Qwen2.5-Coder-32B-Instruct/v1/chat/completions\", payload, headers)\n",
    "    res = conn.getresponse()\n",
    "    data = res.read()\n",
    "    response_json = json.loads(data.decode(\"utf-8\"))\n",
    "\n",
    "    jsonpath_expression = parse('$..content') \n",
    "    matches = [match.value for match in jsonpath_expression.find(response_json)]\n",
    "    \n",
    "    content = matches[0] if matches else None\n",
    "    results_QwenCoder.append(content)"
   ]
  },
  {
   "cell_type": "code",
   "execution_count": null,
   "id": "ca9974bb-f55e-4fdb-8e54-44729b09d6ae",
   "metadata": {},
   "outputs": [
    {
     "name": "stdout",
     "output_type": "stream",
     "text": [
      "All functions saved to scripts/generated_functions_Qwencoder_delete.py\n"
     ]
    }
   ],
   "source": [
    "file_path = r\"scripts/generated_functions_Qwencoder.py\"\n",
    "with open(file_path, \"w\") as file:\n",
    "    for result in results_QwenCoder:\n",
    "        file.write(result + \"\\n\\n\")\n",
    "\n",
    "print(f\"All functions saved to {file_path}\")"
   ]
  },
  {
   "cell_type": "code",
   "execution_count": 12,
   "id": "ccf72e5f-a5e9-4093-9dbb-04c98a9ffc26",
   "metadata": {},
   "outputs": [],
   "source": [
    "prompts_gemma = [\n",
    "    \"def factorial(n): ..\",\n",
    "    \"def palindrome(n):..\",\n",
    "    \"Generate Python code for a function named `sort_by_key`. The function should take two parameters: (1) a list of dictionaries and (2) a key by which to sort the dictionaries. It should return the list sorted in ascending order based on the specified key. Provide only the Python code without any additional text, comments, or metadata.\",\n",
    "    \"Generate only Python code for a class named `BankAccount`. The class should include: (1) a constructor to initialize the account with a balance, (2) a `deposit` method to add funds, (3) a `withdraw` method to remove funds (with error handling for insufficient funds), and (4) a `check_balance` method to return the current balance. Ensure proper error handling and clean, readable code. Do not include any additional text, comments, or metadata—return only the Python code.\"\n",
    "]"
   ]
  },
  {
   "cell_type": "code",
   "execution_count": null,
   "id": "56f2bfcf-e2d4-43ae-b942-16eb822e201b",
   "metadata": {},
   "outputs": [],
   "source": [
    "conn = http.client.HTTPSConnection(\"api-inference.huggingface.co\")\n",
    "result_gemma=[]\n",
    "for prompt in prompts_gemma:\n",
    "    \n",
    "    payload = json.dumps({\"inputs\": prompt})\n",
    "    headers = {'Content-Type': 'application/json','Authorization': authorization_token} \n",
    "    conn.request(\"POST\", \"/models/google/gemma-7b\", payload, headers)\n",
    "    res = conn.getresponse()\n",
    "    data = res.read()\n",
    "    result_gemma.append(data.decode(\"utf-8\"))"
   ]
  },
  {
   "cell_type": "code",
   "execution_count": null,
   "id": "44b47b6b-3ef6-47cc-abe4-dbfa63646d6a",
   "metadata": {},
   "outputs": [
    {
     "name": "stdout",
     "output_type": "stream",
     "text": [
      "All functions saved to scripts/generated_functions_gemma_delete.py\n"
     ]
    }
   ],
   "source": [
    "file_path = r\"scripts/generated_functions_gemma.py\"\n",
    "with open(file_path, \"w\", encoding=\"utf-8\") as file:\n",
    "    for result in result_gemma:\n",
    "        file.write(result + \"\\n\\n\")\n",
    "\n",
    "print(f\"All functions saved to {file_path}\")"
   ]
  },
  {
   "cell_type": "code",
   "execution_count": null,
   "id": "6d191723-4e08-4931-86bb-e4a44f0c9d61",
   "metadata": {},
   "outputs": [],
   "source": []
  }
 ],
 "metadata": {
  "kernelspec": {
   "display_name": ".venv",
   "language": "python",
   "name": "python3"
  },
  "language_info": {
   "codemirror_mode": {
    "name": "ipython",
    "version": 3
   },
   "file_extension": ".py",
   "mimetype": "text/x-python",
   "name": "python",
   "nbconvert_exporter": "python",
   "pygments_lexer": "ipython3",
   "version": "3.12.3"
  }
 },
 "nbformat": 4,
 "nbformat_minor": 5
}
